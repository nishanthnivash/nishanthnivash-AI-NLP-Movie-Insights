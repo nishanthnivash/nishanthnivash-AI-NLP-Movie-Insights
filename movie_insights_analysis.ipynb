{
  "nbformat": 4,
  "nbformat_minor": 0,
  "metadata": {
    "colab": {
      "provenance": []
    },
    "kernelspec": {
      "name": "python3",
      "display_name": "Python 3"
    },
    "language_info": {
      "name": "python"
    }
  },
  "cells": [
    {
      "cell_type": "code",
      "execution_count": 9,
      "metadata": {
        "id": "pw0_fdMEefSD"
      },
      "outputs": [],
      "source": [
        "# Step 1: Import necessary libraries\n",
        "from transformers import AutoTokenizer, AutoModelForCausalLM, pipeline\n",
        "import pandas as pd\n",
        "import json\n",
        "\n",
        "# Step 2: Load the model and tokenizer\n",
        "# We use \"gpt2\" as the base model, which is a popular choice for text generation tasks\n",
        "model_name = \"gpt2\"\n",
        "tokenizer = AutoTokenizer.from_pretrained(model_name)\n",
        "model = AutoModelForCausalLM.from_pretrained(model_name)\n",
        "\n",
        "# Step 3: Instantiate the text generation pipeline\n",
        "# This pipeline will handle generating text based on input prompts\n",
        "generator = pipeline(\"text-generation\", model=model, tokenizer=tokenizer)"
      ]
    },
    {
      "cell_type": "code",
      "source": [
        "\n",
        "data = [\n",
        "  {\n",
        "    \"movie_title\": \"Lagaan\",\n",
        "    \"genres\": [\"Drama\", \"Sports\"],\n",
        "    \"description\": \"A small Indian village challenges the British Empire to a cricket match.\",\n",
        "    \"cast\": [\"Aamir Khan\", \"Gracy Singh\", \"Rachel Shelley\"]\n",
        "  },\n",
        "  {\n",
        "    \"movie_title\": \"Taare Zameen Par\",\n",
        "    \"genres\": [\"Drama\", \"Family\"],\n",
        "    \"description\": \"A teacher helps a dyslexic student overcome his struggles.\",\n",
        "    \"cast\": [\"Aamir Khan\", \"Darsheel Safary\", \"Tisca Chopra\"]\n",
        "  },\n",
        "  {\n",
        "    \"movie_title\": \"3 Idiots\",\n",
        "    \"genres\": [\"Comedy\", \"Drama\"],\n",
        "    \"description\": \"Three friends navigate college life and discover their true potential.\",\n",
        "    \"cast\": [\"Aamir Khan\", \"Kareena Kapoor\", \"R. Madhavan\"]\n",
        "  },\n",
        "  {\n",
        "    \"movie_title\": \"Kuch Kuch Hota Hai\",\n",
        "    \"genres\": [\"Romance\", \"Drama\"],\n",
        "    \"description\": \"A love triangle spanning years, exploring friendship and true love.\",\n",
        "    \"cast\": [\"Shah Rukh Khan\", \"Kajol\", \"Rani Mukerji\"]\n",
        "  },\n",
        "  {\n",
        "    \"movie_title\": \"Dilwale Dulhania Le Jayenge\",\n",
        "    \"genres\": [\"Romance\", \"Drama\"],\n",
        "    \"description\": \"A romantic journey across Europe and India, exploring cultural traditions.\",\n",
        "    \"cast\": [\"Shah Rukh Khan\", \"Kajol\", \"Amrish Puri\"]\n",
        "  },\n",
        "  {\n",
        "    \"movie_title\": \"Rang De Basanti\",\n",
        "    \"genres\": [\"Drama\", \"History\"],\n",
        "    \"description\": \"Young Indians awaken to their nation's past and strive for change.\",\n",
        "    \"cast\": [\"Aamir Khan\", \"Soha Ali Khan\", \"Madhavan\"]\n",
        "  },\n",
        "  {\n",
        "    \"movie_title\": \"Veer-Zaara\",\n",
        "    \"genres\": [\"Romance\", \"Drama\"],\n",
        "    \"description\": \"A love story spanning decades, exploring sacrifice and loyalty.\",\n",
        "    \"cast\": [\"Shah Rukh Khan\", \"Preity Zinta\", \"Rani Mukerji\"]\n",
        "  },\n",
        "  {\n",
        "    \"movie_title\": \"My Name Is Khan\",\n",
        "    \"genres\": [\"Drama\", \"Biography\"],\n",
        "    \"description\": \"A man's journey to clear his name and fight intolerance.\",\n",
        "    \"cast\": [\"Shah Rukh Khan\", \"Kajol\", \"Christopher B. Duncan\"]\n",
        "  },\n",
        "  {\n",
        "    \"movie_title\": \"Guru\",\n",
        "    \"genres\": [\"Biography\", \"Drama\"],\n",
        "    \"description\": \"A businessman's rise to success, inspired by real-life events.\",\n",
        "    \"cast\": [\"Abhishek Bachchan\", \"Aishwarya Rai Bachchan\", \"R. Madhavan\"]\n",
        "  },\n",
        "  {\n",
        "    \"movie_title\": \"Sultan\",\n",
        "    \"genres\": [\"Action\", \"Drama\"],\n",
        "    \"description\": \"A wrestler's journey to redemption and love.\",\n",
        "    \"cast\": [\"Salman Khan\", \"Anushka Sharma\", \"Randeep Hooda\"]\n",
        "  },\n",
        "  {\n",
        "    \"movie_title\": \"Bajirao Mastani\",\n",
        "    \"genres\": [\"History\", \"Romance\"],\n",
        "    \"description\": \"A historical epic exploring love, war, and loyalty.\",\n",
        "    \"cast\": [\"Ranveer Singh\", \"Deepika Padukone\", \"Priyanka Chopra\"]\n",
        "  },\n",
        "  {\n",
        "    \"movie_title\": \"PK\",\n",
        "    \"genres\": [\"Comedy\", \"Drama\"],\n",
        "    \"description\": \"An alien's journey to understand humanity and faith.\",\n",
        "    \"cast\": [\"Aamir Khan\", \"Anushka Sharma\", \"Sushant Singh Rajput\"]\n",
        "  },\n",
        "  {\n",
        "    \"movie_title\": \"Dangal\",\n",
        "    \"genres\": [\"Biography\", \"Sports\"],\n",
        "    \"description\": \"A father's determination to train his daughters in wrestling.\",\n",
        "    \"cast\": [\"Aamir Khan\", \"Fatima Sana Shaikh\", \"Sanya Malhotra\"]\n",
        "  },\n",
        "  {\n",
        "    \"movie_title\": \"Secret Superstar\",\n",
        "    \"genres\": [\"Drama\", \"Music\"],\n",
        "    \"description\": \"A young singer's journey to overcome obstacles and achieve stardom.\",\n",
        "    \"cast\": [\"Zaira Wasim\", \"Meher Vij\", \"Aamir Khan\"]\n",
        "  },\n",
        "  {\n",
        "    \"movie_title\": \"Padmaavat\",\n",
        "    \"genres\": [\"History\", \"Romance\"],\n",
        "    \"description\": \"A historical epic exploring honor, loyalty, and love.\",\n",
        "    \"cast\": [\"Deepika Padukone\", \"Ranveer Singh\", \"Shahid Kapoor\"]\n",
        "  },\n",
        "  {\n",
        "    \"movie_title\": \"Andhadhun\",\n",
        "    \"genres\": [\"Thriller\", \"Mystery\"],\n",
        "    \"description\": \"A blind pianist's life takes a dark turn after witnessing a crime.\",\n",
        "    \"cast\": [\"Ayushmann Khurrana\", \"Tabu\", \"Radhika Apte\"]\n",
        "  },\n",
        "  {\n",
        "    \"movie_title\": \"Gully Boy\",\n",
        "    \"genres\": [\"Drama\", \"Music\"],\n",
        "    \"description\": \"A young rapper's journey from the streets to stardom.\",\n",
        "    \"cast\": [\"Ranveer Singh\", \"Alia Bhatt\", \"Kalki Koechlin\"]\n",
        "  },\n",
        "  {\n",
        "    \"movie_title\": \"Kabir Singh\",\n",
        "    \"genres\": [\"Romance\", \"Drama\"],\n",
        "    \"description\": \"A medical student's intense love story and self-destructive tendencies.\",\n",
        "    \"cast\": [\"Shahid Kapoor\", \"Kiara Advani\", \"Suresh Oberoi\"]\n",
        "  },\n",
        "  {\n",
        "    \"movie_title\": \"Uri: The Surgical Strike\",\n",
        "    \"genres\": [\"Action\", \"Drama\"],\n",
        "    \"description\": \"India's surgical strike against Pakistan in response to the Uri attack.\",\n",
        "    \"cast\": [\"Vicky Kaushal\", \"Yami Gautam\", \"Paresh Rawal\"]\n",
        "  },\n",
        "  {\n",
        "    \"movie_title\": \"Badhaai Ho\",\n",
        "    \"genres\": [\"Comedy\", \"Drama\"],\n",
        "    \"description\": \"A middle-aged couple's unexpected pregnancy brings laughter and joy.\",\n",
        "    \"cast\": [\"Ayushmann Khurrana\", \"Neena Gupta\", \"Gajraj Rao\"]\n",
        "  },\n",
        "  {\n",
        "    \"movie_title\": \"Stree\",\n",
        "    \"genres\": [\"Horror\", \"Comedy\"],\n",
        "    \"description\": \"A small town's mythological legend and the power of women.\",\n",
        "    \"cast\": [\"Rajkummar Rao\", \"Shraddha Kapoor\", \"Pankaj Tripathi\"]\n",
        "  }\n",
        "  ]\n",
        "\n",
        "\n",
        "df = pd.DataFrame(data)"
      ],
      "metadata": {
        "id": "QEJkNX6lfIJz"
      },
      "execution_count": 10,
      "outputs": []
    },
    {
      "cell_type": "code",
      "source": [
        "results = []\n",
        "for _, row in df.iterrows():\n",
        "    prompt = f\"Generate a creative movie description for '{row['movie_title']}' based on this description: {row['description']}\"\n",
        "    generated_desc = generator(prompt, max_length=100, num_return_sequences=1)[0][\"generated_text\"]\n",
        "    results.append({\n",
        "        \"movie_title\": row['movie_title'],\n",
        "        \"original_description\": row['description'],\n",
        "        \"generated_description\": generated_desc,\n",
        "        \"genres\": row['genres'],\n",
        "        \"cast\": row['cast']\n",
        "    })\n",
        "\n",
        "# Step 6: Task 3 - Generate plot twists\n",
        "# For each movie, generate a plot twist based on the description\n",
        "plot_twists = []\n",
        "for _, row in df.iterrows():\n",
        "    prompt = f\"Based on this description: {row['description']}, generate a surprising plot twist or alternate ending.\"\n",
        "    plot_twist = generator(prompt, max_length=100, num_return_sequences=1)[0][\"generated_text\"]\n",
        "    plot_twists.append({\n",
        "        \"movie_title\": row['movie_title'],\n",
        "        \"original_description\": row['description'],\n",
        "        \"plot_twist\": plot_twist\n",
        "    })"
      ],
      "metadata": {
        "collapsed": true,
        "id": "EtJX1_g2fkEO"
      },
      "execution_count": null,
      "outputs": []
    },
    {
      "cell_type": "code",
      "source": [
        "import json\n",
        "\n",
        "def retrieve_and_save_output(movie_title, data, filename, task_name):\n",
        "    \"\"\"\n",
        "    Retrieves and saves the generated data (description or plot twist) for a specified movie.\n",
        "    \"\"\"\n",
        "    # Find the movie entry in the provided data\n",
        "    result = next((item for item in data if item[\"movie_title\"].lower() == movie_title.lower()), None)\n",
        "\n",
        "    if result:\n",
        "        print(f\"{task_name} for the Movie:\")\n",
        "        print(json.dumps(result, indent=2))\n",
        "        # Save to JSON file\n",
        "        with open(filename, 'w') as f:\n",
        "            json.dump(result, f, indent=2)\n",
        "    else:\n",
        "        print(f\"No data found for movie title '{movie_title}' in {task_name} results.\")\n",
        "    return result\n",
        "\n",
        "# Request the specific movie title from the user\n",
        "specific_movie_title = input(\"Enter the movie title for which you want the output: \")\n",
        "\n",
        "# Retrieve and display results for Task 1 (Description) and Task 3 (Plot Twist)\n",
        "task1_result = retrieve_and_save_output(specific_movie_title, results, 'task1_output.json', \"Description\")\n",
        "task3_result = retrieve_and_save_output(specific_movie_title, plot_twists, 'task3_output.json', \"Plot Twist\")\n",
        "\n",
        "# Step 10: Combine and save both Task 1 and Task 3 results in a single JSON file\n",
        "combined_data = {\"Task 1\": task1_result, \"Task 3\": task3_result}\n",
        "with open('combined_output.json', 'w') as f:\n",
        "    json.dump(combined_data, f, indent=2)\n",
        "\n",
        "# Step 11: Task 4 - Genre Prediction Accuracy (same as before)\n",
        "def predict_genre(description):\n",
        "    prompt = f\"Predict the genre for this movie description: {description}\"\n",
        "    prediction = generator(prompt, max_length=50, num_return_sequences=1)[0][\"generated_text\"]\n",
        "    return prediction.lower().strip()\n",
        "\n"
      ],
      "metadata": {
        "collapsed": true,
        "id": "G0YSFh7QpLfg",
        "colab": {
          "base_uri": "https://localhost:8080/"
        },
        "outputId": "35400dc8-b906-49eb-b96d-c9fe6bcb1720"
      },
      "execution_count": 19,
      "outputs": [
        {
          "output_type": "stream",
          "name": "stdout",
          "text": [
            "Enter the movie title for which you want the output: Lagaan\n",
            "Description for the Movie:\n",
            "{\n",
            "  \"movie_title\": \"Lagaan\",\n",
            "  \"original_description\": \"A small Indian village challenges the British Empire to a cricket match.\",\n",
            "  \"generated_description\": \"Generate a creative movie description for 'Lagaan' based on this description: A small Indian village challenges the British Empire to a cricket match. They arrive from the Ural Mountains on an expedition to China. Written by garykmcd\",\n",
            "  \"genres\": [\n",
            "    \"Drama\",\n",
            "    \"Sports\"\n",
            "  ],\n",
            "  \"cast\": [\n",
            "    \"Aamir Khan\",\n",
            "    \"Gracy Singh\",\n",
            "    \"Rachel Shelley\"\n",
            "  ]\n",
            "}\n",
            "Plot Twist for the Movie:\n",
            "{\n",
            "  \"movie_title\": \"Lagaan\",\n",
            "  \"original_description\": \"A small Indian village challenges the British Empire to a cricket match.\",\n",
            "  \"plot_twist\": \"Based on this description: A small Indian village challenges the British Empire to a cricket match., generate a surprising plot twist or alternate ending. It follows a boy who makes a fateful decision to go to the local Cricket Authority because he is afraid of a man he identifies with and who knows exactly who he is. He comes from a wealthy family in a remote village that had always stood in the way of England, never allowing him to go. He meets a former English official and gets out of his house.\"\n",
            "}\n"
          ]
        }
      ]
    },
    {
      "cell_type": "code",
      "source": [
        "from google.colab import files\n",
        "files.download('task1_output.json')\n",
        "files.download('task3_output.json')\n",
        "files.download('combined_output.json')"
      ],
      "metadata": {
        "colab": {
          "base_uri": "https://localhost:8080/",
          "height": 17
        },
        "id": "7w9OkrYwJdhC",
        "outputId": "a4f88a40-41b5-4725-f194-0a7f963f75d9"
      },
      "execution_count": 20,
      "outputs": [
        {
          "output_type": "display_data",
          "data": {
            "text/plain": [
              "<IPython.core.display.Javascript object>"
            ],
            "application/javascript": [
              "\n",
              "    async function download(id, filename, size) {\n",
              "      if (!google.colab.kernel.accessAllowed) {\n",
              "        return;\n",
              "      }\n",
              "      const div = document.createElement('div');\n",
              "      const label = document.createElement('label');\n",
              "      label.textContent = `Downloading \"${filename}\": `;\n",
              "      div.appendChild(label);\n",
              "      const progress = document.createElement('progress');\n",
              "      progress.max = size;\n",
              "      div.appendChild(progress);\n",
              "      document.body.appendChild(div);\n",
              "\n",
              "      const buffers = [];\n",
              "      let downloaded = 0;\n",
              "\n",
              "      const channel = await google.colab.kernel.comms.open(id);\n",
              "      // Send a message to notify the kernel that we're ready.\n",
              "      channel.send({})\n",
              "\n",
              "      for await (const message of channel.messages) {\n",
              "        // Send a message to notify the kernel that we're ready.\n",
              "        channel.send({})\n",
              "        if (message.buffers) {\n",
              "          for (const buffer of message.buffers) {\n",
              "            buffers.push(buffer);\n",
              "            downloaded += buffer.byteLength;\n",
              "            progress.value = downloaded;\n",
              "          }\n",
              "        }\n",
              "      }\n",
              "      const blob = new Blob(buffers, {type: 'application/binary'});\n",
              "      const a = document.createElement('a');\n",
              "      a.href = window.URL.createObjectURL(blob);\n",
              "      a.download = filename;\n",
              "      div.appendChild(a);\n",
              "      a.click();\n",
              "      div.remove();\n",
              "    }\n",
              "  "
            ]
          },
          "metadata": {}
        },
        {
          "output_type": "display_data",
          "data": {
            "text/plain": [
              "<IPython.core.display.Javascript object>"
            ],
            "application/javascript": [
              "download(\"download_5d50f19d-a44a-4659-b735-aa8b3efe9b09\", \"task1_output.json\", 515)"
            ]
          },
          "metadata": {}
        },
        {
          "output_type": "display_data",
          "data": {
            "text/plain": [
              "<IPython.core.display.Javascript object>"
            ],
            "application/javascript": [
              "\n",
              "    async function download(id, filename, size) {\n",
              "      if (!google.colab.kernel.accessAllowed) {\n",
              "        return;\n",
              "      }\n",
              "      const div = document.createElement('div');\n",
              "      const label = document.createElement('label');\n",
              "      label.textContent = `Downloading \"${filename}\": `;\n",
              "      div.appendChild(label);\n",
              "      const progress = document.createElement('progress');\n",
              "      progress.max = size;\n",
              "      div.appendChild(progress);\n",
              "      document.body.appendChild(div);\n",
              "\n",
              "      const buffers = [];\n",
              "      let downloaded = 0;\n",
              "\n",
              "      const channel = await google.colab.kernel.comms.open(id);\n",
              "      // Send a message to notify the kernel that we're ready.\n",
              "      channel.send({})\n",
              "\n",
              "      for await (const message of channel.messages) {\n",
              "        // Send a message to notify the kernel that we're ready.\n",
              "        channel.send({})\n",
              "        if (message.buffers) {\n",
              "          for (const buffer of message.buffers) {\n",
              "            buffers.push(buffer);\n",
              "            downloaded += buffer.byteLength;\n",
              "            progress.value = downloaded;\n",
              "          }\n",
              "        }\n",
              "      }\n",
              "      const blob = new Blob(buffers, {type: 'application/binary'});\n",
              "      const a = document.createElement('a');\n",
              "      a.href = window.URL.createObjectURL(blob);\n",
              "      a.download = filename;\n",
              "      div.appendChild(a);\n",
              "      a.click();\n",
              "      div.remove();\n",
              "    }\n",
              "  "
            ]
          },
          "metadata": {}
        },
        {
          "output_type": "display_data",
          "data": {
            "text/plain": [
              "<IPython.core.display.Javascript object>"
            ],
            "application/javascript": [
              "download(\"download_11856ace-d246-478b-929c-2e2a07bb4a91\", \"task3_output.json\", 654)"
            ]
          },
          "metadata": {}
        },
        {
          "output_type": "display_data",
          "data": {
            "text/plain": [
              "<IPython.core.display.Javascript object>"
            ],
            "application/javascript": [
              "\n",
              "    async function download(id, filename, size) {\n",
              "      if (!google.colab.kernel.accessAllowed) {\n",
              "        return;\n",
              "      }\n",
              "      const div = document.createElement('div');\n",
              "      const label = document.createElement('label');\n",
              "      label.textContent = `Downloading \"${filename}\": `;\n",
              "      div.appendChild(label);\n",
              "      const progress = document.createElement('progress');\n",
              "      progress.max = size;\n",
              "      div.appendChild(progress);\n",
              "      document.body.appendChild(div);\n",
              "\n",
              "      const buffers = [];\n",
              "      let downloaded = 0;\n",
              "\n",
              "      const channel = await google.colab.kernel.comms.open(id);\n",
              "      // Send a message to notify the kernel that we're ready.\n",
              "      channel.send({})\n",
              "\n",
              "      for await (const message of channel.messages) {\n",
              "        // Send a message to notify the kernel that we're ready.\n",
              "        channel.send({})\n",
              "        if (message.buffers) {\n",
              "          for (const buffer of message.buffers) {\n",
              "            buffers.push(buffer);\n",
              "            downloaded += buffer.byteLength;\n",
              "            progress.value = downloaded;\n",
              "          }\n",
              "        }\n",
              "      }\n",
              "      const blob = new Blob(buffers, {type: 'application/binary'});\n",
              "      const a = document.createElement('a');\n",
              "      a.href = window.URL.createObjectURL(blob);\n",
              "      a.download = filename;\n",
              "      div.appendChild(a);\n",
              "      a.click();\n",
              "      div.remove();\n",
              "    }\n",
              "  "
            ]
          },
          "metadata": {}
        },
        {
          "output_type": "display_data",
          "data": {
            "text/plain": [
              "<IPython.core.display.Javascript object>"
            ],
            "application/javascript": [
              "download(\"download_111d2cb0-b4f9-4cd9-8be4-267d1c80dd28\", \"combined_output.json\", 1233)"
            ]
          },
          "metadata": {}
        }
      ]
    }
  ]
}
